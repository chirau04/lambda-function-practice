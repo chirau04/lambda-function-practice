{
 "cells": [
  {
   "cell_type": "code",
   "execution_count": 1,
   "id": "94a0edd4-995f-42f0-9d95-35c570ff9a96",
   "metadata": {},
   "outputs": [],
   "source": [
    "n = 3\n",
    "p = 2 "
   ]
  },
  {
   "cell_type": "code",
   "execution_count": 2,
   "id": "ea964281-746f-4221-bd68-755aaf4def32",
   "metadata": {},
   "outputs": [],
   "source": [
    "def test (n,p):\n",
    "    return n**p"
   ]
  },
  {
   "cell_type": "code",
   "execution_count": 3,
   "id": "057fc5d8-67a5-4f17-86b4-58b17cfd7276",
   "metadata": {},
   "outputs": [
    {
     "data": {
      "text/plain": [
       "9"
      ]
     },
     "execution_count": 3,
     "metadata": {},
     "output_type": "execute_result"
    }
   ],
   "source": [
    "test(3,2)"
   ]
  },
  {
   "cell_type": "code",
   "execution_count": 5,
   "id": "249d0a52-1f18-4cf1-9dc5-4836888baa7a",
   "metadata": {},
   "outputs": [
    {
     "data": {
      "text/plain": [
       "<function __main__.<lambda>(n, p)>"
      ]
     },
     "execution_count": 5,
     "metadata": {},
     "output_type": "execute_result"
    }
   ],
   "source": [
    "lambda n,p:n**p"
   ]
  },
  {
   "cell_type": "code",
   "execution_count": 6,
   "id": "ed9c5c49-e9d4-497e-a6cf-b07f6eb8d10e",
   "metadata": {},
   "outputs": [
    {
     "data": {
      "text/plain": [
       "9"
      ]
     },
     "execution_count": 6,
     "metadata": {},
     "output_type": "execute_result"
    }
   ],
   "source": [
    "a = lambda n,p:n**p\n",
    "a(3,2)"
   ]
  },
  {
   "cell_type": "code",
   "execution_count": 7,
   "id": "5763b675-1c41-44bf-a2ad-8074e1cde6c9",
   "metadata": {},
   "outputs": [],
   "source": [
    "add = lambda x,y:x+y"
   ]
  },
  {
   "cell_type": "code",
   "execution_count": 8,
   "id": "69c5ef16-1214-465c-a4eb-14fa036a4c40",
   "metadata": {},
   "outputs": [
    {
     "data": {
      "text/plain": [
       "9"
      ]
     },
     "execution_count": 8,
     "metadata": {},
     "output_type": "execute_result"
    }
   ],
   "source": [
    "add(4,5)"
   ]
  },
  {
   "cell_type": "code",
   "execution_count": 9,
   "id": "d42038da-cff1-4683-aeae-65939e526f88",
   "metadata": {},
   "outputs": [],
   "source": [
    "c_to_f = lambda c:(915)*c+32"
   ]
  },
  {
   "cell_type": "code",
   "execution_count": 10,
   "id": "25ee7cee-941d-40e1-a969-ad83ba036adf",
   "metadata": {},
   "outputs": [
    {
     "data": {
      "text/plain": [
       "41207"
      ]
     },
     "execution_count": 10,
     "metadata": {},
     "output_type": "execute_result"
    }
   ],
   "source": [
    "c_to_f(45)"
   ]
  },
  {
   "cell_type": "code",
   "execution_count": 11,
   "id": "1cdc4b89-9865-4e24-8aa6-6510cd74a95f",
   "metadata": {},
   "outputs": [],
   "source": [
    "finding_max = lambda x,y: x if x>y else y "
   ]
  },
  {
   "cell_type": "code",
   "execution_count": 12,
   "id": "8604f23a-c4de-4b61-bc99-d567b5fdae80",
   "metadata": {},
   "outputs": [
    {
     "data": {
      "text/plain": [
       "34"
      ]
     },
     "execution_count": 12,
     "metadata": {},
     "output_type": "execute_result"
    }
   ],
   "source": [
    "finding_max(34,23)"
   ]
  },
  {
   "cell_type": "code",
   "execution_count": 13,
   "id": "c795ecb3-522e-4434-863e-cd3868f04ba2",
   "metadata": {},
   "outputs": [],
   "source": [
    "s = \"pwskills\""
   ]
  },
  {
   "cell_type": "code",
   "execution_count": 14,
   "id": "8ce5d1dd-1d84-4ed0-9b9f-3e3fa6765962",
   "metadata": {},
   "outputs": [],
   "source": [
    "find_len = lambda s : len(s)"
   ]
  },
  {
   "cell_type": "code",
   "execution_count": 15,
   "id": "1134aa5a-3383-4eed-82e4-feeb5bca6459",
   "metadata": {},
   "outputs": [
    {
     "data": {
      "text/plain": [
       "8"
      ]
     },
     "execution_count": 15,
     "metadata": {},
     "output_type": "execute_result"
    }
   ],
   "source": [
    "find_len(s)"
   ]
  },
  {
   "cell_type": "code",
   "execution_count": null,
   "id": "ef1cc027-9be8-48fe-83fa-b58c7ade63f5",
   "metadata": {},
   "outputs": [],
   "source": []
  }
 ],
 "metadata": {
  "kernelspec": {
   "display_name": "Python 3 (ipykernel)",
   "language": "python",
   "name": "python3"
  },
  "language_info": {
   "codemirror_mode": {
    "name": "ipython",
    "version": 3
   },
   "file_extension": ".py",
   "mimetype": "text/x-python",
   "name": "python",
   "nbconvert_exporter": "python",
   "pygments_lexer": "ipython3",
   "version": "3.10.8"
  }
 },
 "nbformat": 4,
 "nbformat_minor": 5
}
